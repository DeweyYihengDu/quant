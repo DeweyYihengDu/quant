{
 "cells": [
  {
   "cell_type": "code",
   "execution_count": 2,
   "metadata": {},
   "outputs": [],
   "source": [
    "import tushare as ts\n",
    "from sklearn.model_selection import train_test_split\n",
    "import datetime\n",
    "import pandas as pd\n",
    "import numpy as np\n",
    "from sklearn.ensemble import RandomForestClassifier\n",
    "from sklearn.metrics import accuracy_score, precision_score, recall_score\n",
    "\n"
   ]
  },
  {
   "cell_type": "code",
   "execution_count": 3,
   "metadata": {},
   "outputs": [],
   "source": [
    "ts.set_token('4f2c81a89e1a43100569f800f658a0a26f55ba57c93908691c17b681')\n",
    "pro = ts.pro_api()"
   ]
  },
  {
   "cell_type": "markdown",
   "metadata": {},
   "source": [
    "交易所代码 CFFEX-中金所 DCE-大商所 CZCE-郑商所 SHFE-上期所 INE-上海国际能源交易中心 GFEX-广州期货交易所"
   ]
  },
  {
   "cell_type": "code",
   "execution_count": 17,
   "metadata": {},
   "outputs": [],
   "source": [
    "today = datetime.date.today()\n",
    "\n",
    "# 计算50天前的日期\n",
    "delta = datetime.timedelta(days=50)\n",
    "target_date = today - delta\n",
    "\n",
    "# 创建时间对象\n",
    "time1 = datetime.time(hour=15, minute=0, second=0)\n",
    "time2 = datetime.time(hour=9, minute=0, second=0)\n",
    "\n",
    "# 创建完整的日期时间对象\n",
    "datetime1 = datetime.datetime.combine(today, time1)\n",
    "datetime2 = datetime.datetime.combine(target_date, time2)\n",
    "datetime1_str = datetime1.strftime('%Y-%m-%d %H:%M:%S')\n",
    "datetime2_str = datetime2.strftime('%Y-%m-%d %H:%M:%S')"
   ]
  },
  {
   "cell_type": "code",
   "execution_count": 18,
   "metadata": {},
   "outputs": [
    {
     "name": "stdout",
     "output_type": "stream",
     "text": [
      "2023-04-20 15:00:00\n",
      "2023-03-01 09:00:00\n"
     ]
    }
   ],
   "source": [
    "print(datetime1)\n",
    "print(datetime2)"
   ]
  },
  {
   "cell_type": "code",
   "execution_count": 19,
   "metadata": {},
   "outputs": [
    {
     "name": "stdout",
     "output_type": "stream",
     "text": [
      "抱歉，您每天最多访问该接口5次，权限的具体详情访问：https://tushare.pro/document/1?doc_id=108。\n",
      "抱歉，您每分钟最多访问该接口1次，权限的具体详情访问：https://tushare.pro/document/1?doc_id=108。\n",
      "抱歉，您每分钟最多访问该接口1次，权限的具体详情访问：https://tushare.pro/document/1?doc_id=108。\n"
     ]
    },
    {
     "ename": "OSError",
     "evalue": "ERROR.",
     "output_type": "error",
     "traceback": [
      "\u001b[1;31m---------------------------------------------------------------------------\u001b[0m",
      "\u001b[1;31mOSError\u001b[0m                                   Traceback (most recent call last)",
      "\u001b[1;32m~\\AppData\\Local\\Temp\\ipykernel_26684\\3615009174.py\u001b[0m in \u001b[0;36m<module>\u001b[1;34m\u001b[0m\n\u001b[1;32m----> 1\u001b[1;33m df = ts.pro_bar(ts_code='OI2309.ZCE',\n\u001b[0m\u001b[0;32m      2\u001b[0m                     \u001b[0masset\u001b[0m\u001b[1;33m=\u001b[0m\u001b[1;34m'FT'\u001b[0m\u001b[1;33m,\u001b[0m\u001b[1;33m\u001b[0m\u001b[1;33m\u001b[0m\u001b[0m\n\u001b[0;32m      3\u001b[0m                     \u001b[0mfreq\u001b[0m\u001b[1;33m=\u001b[0m\u001b[1;34m'15min'\u001b[0m\u001b[1;33m,\u001b[0m\u001b[1;33m\u001b[0m\u001b[1;33m\u001b[0m\u001b[0m\n\u001b[0;32m      4\u001b[0m                     \u001b[0mstart_date\u001b[0m\u001b[1;33m=\u001b[0m \u001b[0mdatetime2_str\u001b[0m\u001b[1;33m,\u001b[0m\u001b[1;33m\u001b[0m\u001b[1;33m\u001b[0m\u001b[0m\n\u001b[0;32m      5\u001b[0m                     end_date= datetime1_str)    \n",
      "\u001b[1;32mc:\\Users\\DuYih\\anaconda3\\lib\\site-packages\\tushare\\pro\\data_pro.py\u001b[0m in \u001b[0;36mpro_bar\u001b[1;34m(ts_code, api, start_date, end_date, freq, asset, exchange, adj, ma, factors, adjfactor, offset, limit, contract_type, retry_count)\u001b[0m\n\u001b[0;32m    194\u001b[0m         \u001b[1;32melse\u001b[0m\u001b[1;33m:\u001b[0m\u001b[1;33m\u001b[0m\u001b[1;33m\u001b[0m\u001b[0m\n\u001b[0;32m    195\u001b[0m             \u001b[1;32mreturn\u001b[0m \u001b[0mdata\u001b[0m\u001b[1;33m\u001b[0m\u001b[1;33m\u001b[0m\u001b[0m\n\u001b[1;32m--> 196\u001b[1;33m     \u001b[1;32mraise\u001b[0m \u001b[0mIOError\u001b[0m\u001b[1;33m(\u001b[0m\u001b[1;34m'ERROR.'\u001b[0m\u001b[1;33m)\u001b[0m\u001b[1;33m\u001b[0m\u001b[1;33m\u001b[0m\u001b[0m\n\u001b[0m\u001b[0;32m    197\u001b[0m \u001b[1;33m\u001b[0m\u001b[0m\n\u001b[0;32m    198\u001b[0m \u001b[1;33m\u001b[0m\u001b[0m\n",
      "\u001b[1;31mOSError\u001b[0m: ERROR."
     ]
    }
   ],
   "source": [
    "df = ts.pro_bar(ts_code='OI2309.ZCE',\n",
    "                    asset='FT',\n",
    "                    freq='15min', \n",
    "                    start_date= datetime2_str,\n",
    "                    end_date= datetime1_str)    "
   ]
  },
  {
   "cell_type": "code",
   "execution_count": 7,
   "metadata": {},
   "outputs": [
    {
     "name": "stderr",
     "output_type": "stream",
     "text": [
      "C:\\Users\\DuYih\\AppData\\Local\\Temp\\ipykernel_26684\\261944342.py:2: SettingWithCopyWarning: \n",
      "A value is trying to be set on a copy of a slice from a DataFrame\n",
      "\n",
      "See the caveats in the documentation: https://pandas.pydata.org/pandas-docs/stable/user_guide/indexing.html#returning-a-view-versus-a-copy\n",
      "  df['change1'].iloc[0:2] = 0\n"
     ]
    }
   ],
   "source": [
    "df['change1'] = df['close'] - df['close'].shift(1)\n",
    "df['change1'].iloc[0:2] = 0\n",
    "\n",
    "df.insert(0, 'number', range(1, len(df)+1))"
   ]
  },
  {
   "cell_type": "code",
   "execution_count": 8,
   "metadata": {},
   "outputs": [],
   "source": [
    "df.to_csv('futures_min.csv', index=False)"
   ]
  },
  {
   "cell_type": "code",
   "execution_count": 9,
   "metadata": {},
   "outputs": [
    {
     "name": "stdout",
     "output_type": "stream",
     "text": [
      "Accuracy: 1.0\n"
     ]
    }
   ],
   "source": [
    "# 读入数据\n",
    "# df = pd.read_csv('futures.csv')\n",
    "\n",
    "# 构建特征矩阵\n",
    "features = ['change1', 'open', 'close', 'oi', 'vol']\n",
    "X = np.array(df[features])\n",
    "y = np.array(df['change1'] > 0)\n",
    "\n",
    "# 划分训练集和测试集\n",
    "train_size = int(0.7 * len(df))\n",
    "X_train, X_test = X[:train_size], X[train_size:]\n",
    "y_train, y_test = y[:train_size], y[train_size:]\n",
    "\n",
    "# 建立随机森林模型\n",
    "rfc = RandomForestClassifier(n_estimators=100, max_depth=5, random_state=0)\n",
    "rfc.fit(X_train, y_train)\n",
    "\n",
    "# 预测测试集\n",
    "y_pred = rfc.predict(X_test)\n",
    "\n",
    "# 评估模型准确度\n",
    "accuracy = accuracy_score(y_test, y_pred)\n",
    "print('Accuracy:', accuracy)"
   ]
  },
  {
   "cell_type": "code",
   "execution_count": 10,
   "metadata": {},
   "outputs": [
    {
     "name": "stdout",
     "output_type": "stream",
     "text": [
      "下跌概率: [0.115]\n",
      "上涨概率: [0.885]\n"
     ]
    },
    {
     "name": "stderr",
     "output_type": "stream",
     "text": [
      "c:\\Users\\DuYih\\anaconda3\\lib\\site-packages\\sklearn\\base.py:443: UserWarning: X has feature names, but RandomForestClassifier was fitted without feature names\n",
      "  warnings.warn(\n"
     ]
    }
   ],
   "source": [
    "# 假设你已经得到了一个新的数据点，保存在一个名为new_data的DataFrame中\n",
    "new_data = pd.DataFrame({'change1': [84], \n",
    "                         'open': [4777], \n",
    "                         'close': [4776], \n",
    "                         'oi': [53], \n",
    "                         'vol': [824]})\n",
    "\n",
    "# 对新数据进行预测\n",
    "y_pred = rfc.predict_proba(new_data)\n",
    "\n",
    "# 输出涨跌概率\n",
    "print('下跌概率:', y_pred[:, 0])\n",
    "print('上涨概率:', y_pred[:, 1])"
   ]
  },
  {
   "cell_type": "code",
   "execution_count": 11,
   "metadata": {},
   "outputs": [
    {
     "name": "stdout",
     "output_type": "stream",
     "text": [
      "准确率： 0.8125\n",
      "精确率： 0.8333333333333334\n",
      "召回率： 0.8333333333333334\n"
     ]
    }
   ],
   "source": [
    "# 加载数据\n",
    "# data = pd.read_csv('futures.csv')\n",
    "data=df\n",
    "\n",
    "# 构建特征矩阵\n",
    "features = ['open', 'close', 'high', 'low']\n",
    "X = []\n",
    "for i in range(3, len(data)):\n",
    "    x_i = data.loc[i-3:i-1, features].values.reshape(-1)\n",
    "    X.append(x_i)\n",
    "X = np.array(X)\n",
    "\n",
    "# 标记目标变量\n",
    "y = np.where(data['change1'][3:] > 0, 1, 0)\n",
    "\n",
    "# 划分训练集和测试集\n",
    "X_train, X_test, y_train, y_test = train_test_split(X, y, test_size=0.2, random_state=42)\n",
    "\n",
    "# 训练模型\n",
    "rfc = RandomForestClassifier(n_estimators=100, random_state=42)\n",
    "rfc.fit(X_train, y_train)\n",
    "\n",
    "# 评估模型\n",
    "y_pred = rfc.predict(X_test)\n",
    "print('准确率：', accuracy_score(y_test, y_pred))\n",
    "print('精确率：', precision_score(y_test, y_pred))\n",
    "print('召回率：', recall_score(y_test, y_pred))"
   ]
  },
  {
   "cell_type": "code",
   "execution_count": 12,
   "metadata": {},
   "outputs": [
    {
     "name": "stdout",
     "output_type": "stream",
     "text": [
      "下跌概率: 0.57\n",
      "上涨概率: 0.43\n"
     ]
    }
   ],
   "source": [
    "# 构造新数据\n",
    "new_data = data.loc[len(data)-3:len(data)-1, features].values.reshape(-1, 12)\n",
    "\n",
    "# 预测涨跌概率\n",
    "y_pred = rfc.predict_proba(new_data)\n",
    "\n",
    "# 输出涨跌概率\n",
    "print('下跌概率:', y_pred[0, 0])\n",
    "print('上涨概率:', y_pred[0, 1])"
   ]
  },
  {
   "cell_type": "code",
   "execution_count": null,
   "metadata": {},
   "outputs": [],
   "source": []
  }
 ],
 "metadata": {
  "kernelspec": {
   "display_name": "base",
   "language": "python",
   "name": "python3"
  },
  "language_info": {
   "codemirror_mode": {
    "name": "ipython",
    "version": 3
   },
   "file_extension": ".py",
   "mimetype": "text/x-python",
   "name": "python",
   "nbconvert_exporter": "python",
   "pygments_lexer": "ipython3",
   "version": "3.9.13"
  },
  "orig_nbformat": 4
 },
 "nbformat": 4,
 "nbformat_minor": 2
}
