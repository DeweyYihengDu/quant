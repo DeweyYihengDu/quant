{
 "cells": [
  {
   "cell_type": "code",
   "execution_count": 46,
   "metadata": {},
   "outputs": [],
   "source": [
    "import tushare as ts\n",
    "import pandas as pd\n",
    "import numpy as np\n",
    "import statsmodels.api as sm\n",
    "from statsmodels.tsa.arima.model import ARIMA\n",
    "from sklearn.model_selection import train_test_split\n",
    "from sklearn.linear_model import LogisticRegression\n",
    "from sklearn.metrics import accuracy_score, precision_score, recall_score\n",
    "import datetime\n",
    "\n",
    "today = int(datetime.datetime.now().strftime(\"%Y%m%d\"))\n"
   ]
  },
  {
   "cell_type": "code",
   "execution_count": 47,
   "metadata": {},
   "outputs": [
    {
     "data": {
      "text/plain": [
       "20230418"
      ]
     },
     "execution_count": 47,
     "metadata": {},
     "output_type": "execute_result"
    }
   ],
   "source": [
    "today"
   ]
  },
  {
   "cell_type": "code",
   "execution_count": 48,
   "metadata": {},
   "outputs": [],
   "source": [
    "# 将token替换为自己的tushare token\n",
    "ts.set_token('7a744812e15bc5fd281125c887d61c224bcaced5be1b520cb22a1a51')\n",
    "pro = ts.pro_api()"
   ]
  },
  {
   "cell_type": "code",
   "execution_count": 68,
   "metadata": {},
   "outputs": [],
   "source": [
    "# 拉取数据\n",
    "df = pro.fut_daily(**{\n",
    "    \"trade_date\": \"\",\n",
    "    \"ts_code\": \"AG2306.SHF\",\n",
    "    \"exchange\": \"SHFE\",\n",
    "    \"start_date\": today-10000,\n",
    "    \"end_date\": today,\n",
    "    \"limit\": 10000,\n",
    "    \"offset\": \"\"\n",
    "}, fields=[\n",
    "    \"ts_code\",\n",
    "    \"trade_date\",\n",
    "    \"pre_close\",\n",
    "    \"pre_settle\",\n",
    "    \"open\",\n",
    "    \"high\",\n",
    "    \"low\",\n",
    "    \"close\",\n",
    "    \"settle\",\n",
    "    \"change1\",\n",
    "    \"change2\",\n",
    "    \"vol\",\n",
    "    \"amount\",\n",
    "    \"oi\",\n",
    "    \"oi_chg\",\n",
    "    \"delv_settle\"\n",
    "])\n",
    "\n",
    "df.insert(0, 'number', range(1, len(df)+1))        "
   ]
  },
  {
   "cell_type": "code",
   "execution_count": 69,
   "metadata": {},
   "outputs": [],
   "source": [
    "df.to_csv('silver_futures.csv', index=False)"
   ]
  },
  {
   "cell_type": "code",
   "execution_count": 70,
   "metadata": {},
   "outputs": [
    {
     "name": "stdout",
     "output_type": "stream",
     "text": [
      "Accuracy: 1.0\n"
     ]
    }
   ],
   "source": [
    "import pandas as pd\n",
    "import numpy as np\n",
    "from sklearn.ensemble import RandomForestClassifier\n",
    "from sklearn.metrics import accuracy_score\n",
    "\n",
    "# 读入数据\n",
    "df = pd.read_csv('silver_futures.csv')\n",
    "\n",
    "# 构建特征矩阵\n",
    "features = ['change1', 'open', 'close', 'oi', 'vol']\n",
    "X = np.array(df[features])\n",
    "y = np.array(df['change1'] > 0)\n",
    "\n",
    "# 划分训练集和测试集\n",
    "train_size = int(0.7 * len(df))\n",
    "X_train, X_test = X[:train_size], X[train_size:]\n",
    "y_train, y_test = y[:train_size], y[train_size:]\n",
    "\n",
    "# 建立随机森林模型\n",
    "rfc = RandomForestClassifier(n_estimators=100, max_depth=5, random_state=0)\n",
    "rfc.fit(X_train, y_train)\n",
    "\n",
    "# 预测测试集\n",
    "y_pred = rfc.predict(X_test)\n",
    "\n",
    "# 评估模型准确度\n",
    "accuracy = accuracy_score(y_test, y_pred)\n",
    "print('Accuracy:', accuracy)\n"
   ]
  },
  {
   "cell_type": "code",
   "execution_count": 71,
   "metadata": {},
   "outputs": [
    {
     "name": "stdout",
     "output_type": "stream",
     "text": [
      "下跌概率: [0.10532748]\n",
      "上涨概率: [0.89467252]\n"
     ]
    },
    {
     "name": "stderr",
     "output_type": "stream",
     "text": [
      "c:\\Users\\DuYih\\anaconda3\\lib\\site-packages\\sklearn\\base.py:443: UserWarning: X has feature names, but RandomForestClassifier was fitted without feature names\n",
      "  warnings.warn(\n"
     ]
    }
   ],
   "source": [
    "# 假设你已经得到了一个新的数据点，保存在一个名为new_data的DataFrame中\n",
    "new_data = pd.DataFrame({'change1': [84], \n",
    "                         'open': [4777], \n",
    "                         'close': [4776], \n",
    "                         'oi': [53], \n",
    "                         'vol': [824]})\n",
    "\n",
    "# 对新数据进行预测\n",
    "y_pred = rfc.predict_proba(new_data)\n",
    "\n",
    "# 输出涨跌概率\n",
    "print('下跌概率:', y_pred[:, 0])\n",
    "print('上涨概率:', y_pred[:, 1])\n"
   ]
  },
  {
   "cell_type": "code",
   "execution_count": 72,
   "metadata": {},
   "outputs": [
    {
     "name": "stdout",
     "output_type": "stream",
     "text": [
      "准确率： 0.5853658536585366\n",
      "精确率： 0.6086956521739131\n",
      "召回率： 0.6363636363636364\n"
     ]
    }
   ],
   "source": [
    "import pandas as pd\n",
    "import numpy as np\n",
    "from sklearn.ensemble import RandomForestClassifier\n",
    "from sklearn.metrics import accuracy_score, precision_score, recall_score, f1_score\n",
    "from sklearn.model_selection import train_test_split\n",
    "\n",
    "# 加载数据\n",
    "data = pd.read_csv('silver_futures.csv')\n",
    "\n",
    "# 构建特征矩阵\n",
    "features = ['open', 'close', 'high', 'low']\n",
    "X = []\n",
    "for i in range(3, len(data)):\n",
    "    x_i = data.loc[i-3:i-1, features].values.reshape(-1)\n",
    "    X.append(x_i)\n",
    "X = np.array(X)\n",
    "\n",
    "# 标记目标变量\n",
    "y = np.where(data['change1'][3:] > 0, 1, 0)\n",
    "\n",
    "# 划分训练集和测试集\n",
    "X_train, X_test, y_train, y_test = train_test_split(X, y, test_size=0.2, random_state=42)\n",
    "\n",
    "# 训练模型\n",
    "rfc = RandomForestClassifier(n_estimators=100, random_state=42)\n",
    "rfc.fit(X_train, y_train)\n",
    "\n",
    "# 评估模型\n",
    "y_pred = rfc.predict(X_test)\n",
    "print('准确率：', accuracy_score(y_test, y_pred))\n",
    "print('精确率：', precision_score(y_test, y_pred))\n",
    "print('召回率：', recall_score(y_test, y_pred))\n",
    "\n"
   ]
  },
  {
   "cell_type": "code",
   "execution_count": 73,
   "metadata": {},
   "outputs": [
    {
     "name": "stdout",
     "output_type": "stream",
     "text": [
      "下跌概率: 0.4\n",
      "上涨概率: 0.6\n"
     ]
    }
   ],
   "source": [
    "# 构造新数据\n",
    "new_data = data.loc[len(data)-3:len(data)-1, features].values.reshape(-1, 12)\n",
    "\n",
    "# 预测涨跌概率\n",
    "y_pred = rfc.predict_proba(new_data)\n",
    "\n",
    "# 输出涨跌概率\n",
    "print('下跌概率:', y_pred[0, 0])\n",
    "print('上涨概率:', y_pred[0, 1])\n"
   ]
  }
 ],
 "metadata": {
  "kernelspec": {
   "display_name": "base",
   "language": "python",
   "name": "python3"
  },
  "language_info": {
   "codemirror_mode": {
    "name": "ipython",
    "version": 3
   },
   "file_extension": ".py",
   "mimetype": "text/x-python",
   "name": "python",
   "nbconvert_exporter": "python",
   "pygments_lexer": "ipython3",
   "version": "3.9.13"
  },
  "orig_nbformat": 4
 },
 "nbformat": 4,
 "nbformat_minor": 2
}
