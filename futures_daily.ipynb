{
 "cells": [
  {
   "cell_type": "code",
   "execution_count": 44,
   "metadata": {},
   "outputs": [],
   "source": [
    "import tushare as ts\n",
    "from sklearn.model_selection import train_test_split\n",
    "import datetime\n",
    "import pandas as pd\n",
    "import numpy as np\n",
    "from sklearn.ensemble import RandomForestClassifier\n",
    "from sklearn.metrics import accuracy_score, precision_score, recall_score\n",
    "today = int(datetime.datetime.now().strftime(\"%Y%m%d\"))"
   ]
  },
  {
   "cell_type": "code",
   "execution_count": 45,
   "metadata": {},
   "outputs": [],
   "source": [
    "ts.set_token('4f2c81a89e1a43100569f800f658a0a26f55ba57c93908691c17b681')\n",
    "pro = ts.pro_api()"
   ]
  },
  {
   "attachments": {},
   "cell_type": "markdown",
   "metadata": {},
   "source": [
    "交易所代码 CFFEX-中金所 DCE-大商所 CZCE-郑商所 SHFE-上期所 INE-上海国际能源交易中心 GFEX-广州期货交易所"
   ]
  },
  {
   "cell_type": "code",
   "execution_count": 46,
   "metadata": {},
   "outputs": [],
   "source": [
    "# 拉取数据\n",
    "df = pro.fut_daily(**{\n",
    "    \"trade_date\": \"\",\n",
    "    # \"ts_code\": \"AG2307.SHF\",\n",
    "    # \"ts_code\": \"OI2309.ZCE\",\n",
    "    # \"ts_code\": \"MA2309.ZCE\",\n",
    "    \"ts_code\": \"V2309.DCE\",\n",
    "    \"exchange\": \"DCE\",\n",
    "    \"start_date\": today-10000,\n",
    "    \"end_date\": today,\n",
    "    \"limit\": 10000,\n",
    "    \"offset\": \"\",\n",
    "}, fields=[\n",
    "    \"ts_code\",\n",
    "    \"trade_date\",\n",
    "    \"pre_close\",\n",
    "    \"pre_settle\",\n",
    "    \"open\",\n",
    "    \"high\",\n",
    "    \"low\",\n",
    "    \"close\",\n",
    "    \"settle\",\n",
    "    \"change1\",\n",
    "    \"change2\",\n",
    "    \"vol\",\n",
    "    \"amount\",\n",
    "    \"oi\",\n",
    "    \"oi_chg\",\n",
    "    \"delv_settle\"\n",
    "])\n",
    "df.insert(0, 'number', range(1, len(df)+1))"
   ]
  },
  {
   "cell_type": "code",
   "execution_count": 47,
   "metadata": {},
   "outputs": [],
   "source": [
    "df.to_csv('futures_daily.csv', index=False)"
   ]
  },
  {
   "cell_type": "code",
   "execution_count": 48,
   "metadata": {},
   "outputs": [
    {
     "name": "stdout",
     "output_type": "stream",
     "text": [
      "Accuracy: 1.0\n",
      "下跌概率: [0.07733333]\n",
      "上涨概率: [0.92266667]\n"
     ]
    },
    {
     "name": "stderr",
     "output_type": "stream",
     "text": [
      "c:\\Users\\DuYih\\anaconda3\\lib\\site-packages\\sklearn\\base.py:443: UserWarning: X has feature names, but RandomForestClassifier was fitted without feature names\n",
      "  warnings.warn(\n"
     ]
    }
   ],
   "source": [
    "# 读入数据\n",
    "# df = pd.read_csv('futures.csv')\n",
    "\n",
    "# 构建特征矩阵\n",
    "features = ['change1', 'open', 'close', 'oi', 'vol']\n",
    "X = np.array(df[features])\n",
    "y = np.array(df['change1'] > 0)\n",
    "\n",
    "# 划分训练集和测试集\n",
    "train_size = int(0.7 * len(df))\n",
    "X_train, X_test = X[:train_size], X[train_size:]\n",
    "y_train, y_test = y[:train_size], y[train_size:]\n",
    "\n",
    "# 建立随机森林模型\n",
    "rfc = RandomForestClassifier(n_estimators=100, max_depth=5, random_state=0)\n",
    "rfc.fit(X_train, y_train)\n",
    "\n",
    "# 预测测试集\n",
    "y_pred = rfc.predict(X_test)\n",
    "\n",
    "# 评估模型准确度\n",
    "accuracy = accuracy_score(y_test, y_pred)\n",
    "print('Accuracy:', accuracy)\n",
    "# 假设你已经得到了一个新的数据点，保存在一个名为new_data的DataFrame中\n",
    "new_data = pd.DataFrame({'change1': [84], \n",
    "                         'open': [4777], \n",
    "                         'close': [4776], \n",
    "                         'oi': [53], \n",
    "                         'vol': [824]})\n",
    "\n",
    "# 对新数据进行预测\n",
    "y_pred = rfc.predict_proba(new_data)\n",
    "\n",
    "# 输出涨跌概率\n",
    "print('下跌概率:', y_pred[:, 0])\n",
    "print('上涨概率:', y_pred[:, 1])"
   ]
  },
  {
   "cell_type": "code",
   "execution_count": 49,
   "metadata": {},
   "outputs": [
    {
     "name": "stdout",
     "output_type": "stream",
     "text": [
      "准确率： 0.6785714285714286\n",
      "精确率： 0.7\n",
      "召回率： 0.5384615384615384\n",
      "下跌概率: 0.48\n",
      "上涨概率: 0.52\n"
     ]
    }
   ],
   "source": [
    "# 加载数据\n",
    "# data = pd.read_csv('futures.csv')\n",
    "data=df\n",
    "\n",
    "# 构建特征矩阵\n",
    "features = ['open', 'close', 'high', 'low']\n",
    "X = []\n",
    "for i in range(3, len(data)):\n",
    "    x_i = data.loc[i-3:i-1, features].values.reshape(-1)\n",
    "    X.append(x_i)\n",
    "X = np.array(X)\n",
    "\n",
    "# 标记目标变量\n",
    "y = np.where(data['change1'][3:] > 0, 1, 0)\n",
    "\n",
    "# 划分训练集和测试集\n",
    "X_train, X_test, y_train, y_test = train_test_split(X, y, test_size=0.2, random_state=42)\n",
    "\n",
    "# 训练模型\n",
    "rfc = RandomForestClassifier(n_estimators=100, random_state=42)\n",
    "rfc.fit(X_train, y_train)\n",
    "\n",
    "# 评估模型\n",
    "y_pred = rfc.predict(X_test)\n",
    "print('准确率：', accuracy_score(y_test, y_pred))\n",
    "print('精确率：', precision_score(y_test, y_pred))\n",
    "print('召回率：', recall_score(y_test, y_pred))\n",
    "# 构造新数据\n",
    "new_data = data.loc[len(data)-3:len(data)-1, features].values.reshape(-1, 12)\n",
    "\n",
    "# 预测涨跌概率\n",
    "y_pred = rfc.predict_proba(new_data)\n",
    "\n",
    "# 输出涨跌概率\n",
    "print('下跌概率:', y_pred[0, 0])\n",
    "print('上涨概率:', y_pred[0, 1])"
   ]
  },
  {
   "cell_type": "code",
   "execution_count": 50,
   "metadata": {},
   "outputs": [
    {
     "name": "stdout",
     "output_type": "stream",
     "text": [
      "准确率： 0.6785714285714286\n",
      "精确率： 0.7\n",
      "召回率： 0.5384615384615384\n",
      "下跌概率: 0.76\n",
      "上涨概率: 0.24\n"
     ]
    }
   ],
   "source": [
    "# 加载数据\n",
    "# data = pd.read_csv('futures_daily.csv')\n",
    "data = df\n",
    "\n",
    "# 构建特征矩阵\n",
    "features = ['open', 'close', 'high', 'low']\n",
    "X = []\n",
    "for i in range(3, len(data)):\n",
    "    x_i = data.loc[i-3:i-1, features].values.reshape(-1)\n",
    "    X.append(x_i)\n",
    "X = np.array(X)\n",
    "\n",
    "# 标记目标变量\n",
    "y = np.where(data['change1'][3:] > 0, 1, 0)\n",
    "\n",
    "# 划分训练集和测试集\n",
    "X_train, X_test, y_train, y_test = train_test_split(X, y, test_size=0.2, random_state=42)\n",
    "\n",
    "# 训练模型\n",
    "rfc = RandomForestClassifier(n_estimators=100, random_state=42)\n",
    "rfc.fit(X_train, y_train)\n",
    "\n",
    "# 评估模型\n",
    "y_pred = rfc.predict(X_test)\n",
    "print('准确率：', accuracy_score(y_test, y_pred))\n",
    "print('精确率：', precision_score(y_test, y_pred))\n",
    "print('召回率：', recall_score(y_test, y_pred))\n",
    "\n",
    "# 构造新数据\n",
    "new_features = ['open', 'close', 'high', 'low']\n",
    "new_X = []\n",
    "for i in range(len(data)-3, len(data)):\n",
    "    x_i = data.loc[i-3:i-1, new_features].values.reshape(-1)\n",
    "    new_X.append(x_i)\n",
    "new_X = np.array(new_X)\n",
    "\n",
    "# 标记目标变量\n",
    "new_y = np.array([data['change1'][len(data)-4]])\n",
    "\n",
    "# 预测涨跌概率\n",
    "new_y_pred = rfc.predict_proba(new_X)\n",
    "\n",
    "# 输出涨跌概率\n",
    "print('下跌概率:', new_y_pred[0, 0])\n",
    "print('上涨概率:', new_y_pred[0, 1])\n"
   ]
  },
  {
   "cell_type": "code",
   "execution_count": 51,
   "metadata": {},
   "outputs": [
    {
     "name": "stdout",
     "output_type": "stream",
     "text": [
      "[[6111. 6020. 6135. 6009. 6010. 6105. 6128. 5965. 6075. 6015. 6075. 5979.]\n",
      " [6010. 6105. 6128. 5965. 6075. 6015. 6075. 5979. 6092. 6069. 6130. 6058.]\n",
      " [6075. 6015. 6075. 5979. 6092. 6069. 6130. 6058. 6178. 6092. 6217. 6088.]]\n"
     ]
    }
   ],
   "source": [
    "print(new_X)"
   ]
  }
 ],
 "metadata": {
  "kernelspec": {
   "display_name": "base",
   "language": "python",
   "name": "python3"
  },
  "language_info": {
   "codemirror_mode": {
    "name": "ipython",
    "version": 3
   },
   "file_extension": ".py",
   "mimetype": "text/x-python",
   "name": "python",
   "nbconvert_exporter": "python",
   "pygments_lexer": "ipython3",
   "version": "3.9.13"
  },
  "orig_nbformat": 4
 },
 "nbformat": 4,
 "nbformat_minor": 2
}
